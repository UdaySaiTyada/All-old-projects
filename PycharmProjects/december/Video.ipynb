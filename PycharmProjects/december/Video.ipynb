{
 "cells": [
  {
   "cell_type": "code",
   "execution_count": null,
   "metadata": {},
   "outputs": [],
   "source": [
    "import cv2,time\n",
    "first_frame = None\n",
    "video = cv2.VideoCapture(0)\n",
    "while(True):\n",
    "    check, frame = video.read()\n",
    "    #print(frame)\n",
    "    gray = cv2.cvtColor(frame,cv2.COLOR_BGR2GRAY)\n",
    "    gray = cv2.GaussianBlur(gray,(21,21),0) \n",
    "    if(first_frame is None):\n",
    "        first_frame = gray\n",
    "        continue\n",
    "        delta_frame = cv2.absdiff(first_frame,gray)\n",
    "        thresh_delta = cv2.threshold(delta_frame,30,255,cv2.THRESH.BNARY)[1]\n",
    "        thresh_delta = cv2.dilate(thresh_delta,None,iterations = 0)\n",
    "        (_,cnts,_) = cv2.findCountours(thresh_delta.copy(),cv2.RETR_EXTERNAL,cv2.CHAIN_APPROX_SIMPLE)\n",
    "        for countour in cnts:\n",
    "            if(cv2.countourArea(countour) < 1000):\n",
    "                continue\n",
    "            (x,y,w,h) = cv2.boundingRect(countour)\n",
    "            cv2.rectangle(frame,(x,y),(x+w,y+h),(0,255,0),3)\n",
    "        cv2.imshow(\"frame\",frame)\n",
    "        cv2.imshow(\"capturing\",gray)\n",
    "        cv2.imshow(\"delta\",delta_frame)\n",
    "        cv2.imshow(\"thresh\",thresh_delta)\n",
    "        key = cv2.waitKey(1)\n",
    "        if(key == ord('q')):\n",
    "            break\n",
    "#print(a)\n",
    "video.release()\n",
    "cv2.destroyAllWindows()"
   ]
  },
  {
   "cell_type": "code",
   "execution_count": null,
   "metadata": {},
   "outputs": [],
   "source": [
    "frame"
   ]
  },
  {
   "cell_type": "code",
   "execution_count": null,
   "metadata": {},
   "outputs": [],
   "source": []
  },
  {
   "cell_type": "code",
   "execution_count": null,
   "metadata": {},
   "outputs": [],
   "source": []
  }
 ],
 "metadata": {
  "kernelspec": {
   "display_name": "Python 3",
   "language": "python",
   "name": "python3"
  },
  "language_info": {
   "codemirror_mode": {
    "name": "ipython",
    "version": 3
   },
   "file_extension": ".py",
   "mimetype": "text/x-python",
   "name": "python",
   "nbconvert_exporter": "python",
   "pygments_lexer": "ipython3",
   "version": "3.7.0"
  }
 },
 "nbformat": 4,
 "nbformat_minor": 2
}
